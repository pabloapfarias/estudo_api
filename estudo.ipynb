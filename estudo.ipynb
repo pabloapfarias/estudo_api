{
 "cells": [
  {
   "cell_type": "code",
   "execution_count": 2,
   "metadata": {},
   "outputs": [],
   "source": [
    "import sqlite3 as sq "
   ]
  },
  {
   "cell_type": "code",
   "execution_count": 5,
   "metadata": {},
   "outputs": [],
   "source": [
    "db = sq.connect('api.db')\n",
    "\n",
    "conn = db.execute('select * from usuarios').fetchall()"
   ]
  },
  {
   "cell_type": "code",
   "execution_count": 6,
   "metadata": {},
   "outputs": [
    {
     "data": {
      "text/plain": [
       "[(1, 'Pablo Farias', 'pablofarias', 'pablofarias@gmail.com'),\n",
       " (2, 'Rubiana Farias', 'rubianafarias', 'rubianafarias@gmail.com'),\n",
       " (3, 'Camilla Farias', 'camillafarias', 'camillafarias@gmail.com'),\n",
       " (4, 'Joao Vitor Farias', 'joaofarias', 'joaovitor@gmail.com'),\n",
       " (5, 'Gabriel de Farias', 'gabrielfarias', 'gabrielfarias@gmail.com')]"
      ]
     },
     "execution_count": 6,
     "metadata": {},
     "output_type": "execute_result"
    }
   ],
   "source": [
    "conn"
   ]
  },
  {
   "cell_type": "code",
   "execution_count": null,
   "metadata": {},
   "outputs": [],
   "source": []
  }
 ],
 "metadata": {
  "kernelspec": {
   "display_name": "TestApi",
   "language": "python",
   "name": "python3"
  },
  "language_info": {
   "codemirror_mode": {
    "name": "ipython",
    "version": 3
   },
   "file_extension": ".py",
   "mimetype": "text/x-python",
   "name": "python",
   "nbconvert_exporter": "python",
   "pygments_lexer": "ipython3",
   "version": "3.12.7"
  }
 },
 "nbformat": 4,
 "nbformat_minor": 2
}
